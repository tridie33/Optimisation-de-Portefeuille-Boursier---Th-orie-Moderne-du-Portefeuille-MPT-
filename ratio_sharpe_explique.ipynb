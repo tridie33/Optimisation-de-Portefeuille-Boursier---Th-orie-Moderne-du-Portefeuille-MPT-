{
 "cells": [
  {
   "cell_type": "markdown",
   "id": "215dcb28-1456-4e97-80e7-10962ea953ec",
   "metadata": {},
   "source": [
    "# Optimisation de Portefeuille Boursier - Théorie Moderne du Portefeuille (MPT)\n",
    "\n",
    "![Python](https://img.shields.io/badge/Python-3.8%2B-blue)\n",
    "![License](https://img.shields.io/badge/License-MIT-green)\n",
    "![Finance](https://img.shields.io/badge/Finance-Quantitative-yellow)\n"
   ]
  },
  {
   "cell_type": "markdown",
   "id": "b62f4078-3455-4f8e-90cb-e597f16af780",
   "metadata": {},
   "source": [
    "## Description du Projet\n",
    "Ce projet utilise la Théorie Moderne du Portefeuille (Harry Markowitz, 1952) pour construire un portefeuille d'actions optimal sans recourir au Machine Learning. Il permet de :\n",
    "- Diversifier un investissement sur 5 actions (AAPL, AMZN, GOOGL, JNJ, MSFT).\n",
    "- Maximiser le rendement pour un niveau de risque donné.\n",
    "- Calculer concrètement la répartition d'un capital (ex : 10 000 €).\n",
    "\n",
    ">  **Note** : Les données sont collectées en temps réel à chaque exécution via l'API Yahoo Finance. Ainsi, les résultats obtenus peuvent légèrement différer de ceux présentés dans ce Projet ou dans les exemples, car les cours boursiers évoluent constamment.\n"
   ]
  },
  {
   "cell_type": "markdown",
   "id": "49e1fd8a-dbb3-4f65-baa3-bfbf550a60fa",
   "metadata": {},
   "source": [
    "## Méthodologie Scientifique\n",
    "\n",
    "### 1. Collecte et Préparation des Données\n",
    "- Source : Données historiques via l'API Yahoo Finance (`yfinance`).\n",
    "- Période : 1 an de données journalières.\n",
    "- Features :\n",
    "  - Prix ajustés (`Adj Close`)\n",
    "  - Volume d'échanges\n"
   ]
  },
  {
   "cell_type": "code",
   "execution_count": null,
   "id": "d8ed7a70-c743-4530-9b37-6536b6978b44",
   "metadata": {},
   "outputs": [],
   "source": [
    "import yfinance as yf\n",
    "data = yf.download(['AAPL', 'AMZN', 'GOOGL', 'JNJ', 'MSFT'], start='2023-01-01', end='2024-01-01')\n"
   ]
  },
  {
   "cell_type": "markdown",
   "id": "4199c173-b0ca-42bb-8e80-31bc0612501a",
   "metadata": {},
   "source": [
    "### 2. Analyse Exploratoire\n",
    "- Visualisation des tendances : Prix ajustés et moyennes mobiles (50/200 jours).\n",
    "- Calcul des rendements : Rendements quotidiens et annualisés.\n",
    "- Matrice de corrélation : Identifier les dépendances entre actions.\n"
   ]
  },
  {
   "cell_type": "markdown",
   "id": "fb732810-6732-450a-bce1-1f2f00bf2cf5",
   "metadata": {},
   "source": [
    "### 3. Optimisation Mathématique\n",
    "\n",
    "#### Paramètres Clés\n",
    "- Rendement attendu : Moyenne des rendements annualisés.\n",
    "- Volatilité : Écart-type annualisé.\n",
    "- Matrice de covariance : Mesure des risques conjoints.\n",
    "\n",
    "#### Simulation Monte Carlo\n",
    "Génération de 10 000 portefeuilles aléatoires :\n"
   ]
  },
  {
   "cell_type": "code",
   "execution_count": null,
   "id": "b54ac587-edee-408b-92b0-ae91e054d6bb",
   "metadata": {},
   "outputs": [],
   "source": [
    "for i in range(10000):\n",
    "    weights = np.random.random(5)  # Poids aléatoires\n",
    "    weights /= np.sum(weights)    # Normalisation à 100%\n",
    "    # Calcul du ratio de Sharpe\n",
    "    sharpe = (np.dot(weights, returns)) / (np.sqrt(weights.T @ cov_matrix @ weights))\n"
   ]
  },
  {
   "cell_type": "markdown",
   "id": "8556cd8d-4a23-4605-8e1d-69bb388d9c02",
   "metadata": {},
   "source": [
    "Chaque point généré représente un portefeuille potentiel. L’ensemble des points forme un **nuage**, où l’on peut visualiser :\n",
    "- Le **portefeuille optimal** (meilleur ratio de Sharpe)\n",
    "- La **frontière efficiente** (les meilleurs portefeuilles possibles)\n",
    "- Une flèche représentant l’optimisation du rendement par unité de risque\n",
    "\n",
    "> 🔄 **Remarque importante** : Les données évoluent à chaque exécution, car elles sont collectées en **temps réel** via Yahoo Finance. Les rendements, les poids optimaux et les observations graphiques peuvent donc différer légèrement à chaque fois que le script est relancé. Cela reflète la **dynamique naturelle des marchés financiers**.\n"
   ]
  },
  {
   "cell_type": "markdown",
   "id": "ddfd004d-cd71-4fbb-9a6b-224e39e94706",
   "metadata": {},
   "source": [
    "### 4. Frontière Efficiente\n",
    "Critère d'optimalité : Maximisation du ratio de Sharpe.\n",
    "\n",
    "#### Portefeuille Optimal\n",
    "- Rendement : 32.5%\n",
    "- Risque : 19.9%\n",
    "- Ratio de Sharpe : 1.63 (Excellent car > 1)\n"
   ]
  },
  {
   "cell_type": "markdown",
   "id": "b5934ccd-536b-4394-a9df-a44945abc61d",
   "metadata": {},
   "source": [
    "## Justification de l’Optimalité\n",
    "\n",
    "### Sans Machine Learning\n",
    "L'optimisation repose sur des calculs statistiques classiques :\n",
    "- Diversification : Combinaison d'actions faiblement corrélées (ex: JNJ vs Tech).\n",
    "- Réduction du risque non-systémique.\n",
    "- Maximisation du ratio de Sharpe :\n",
    "\n",
    "Formule :\n",
    "\n",
    "\n",
    "\n"
   ]
  },
  {
   "cell_type": "markdown",
   "id": "f6f0d21c-010a-45da-9b32-a8fa42c810cb",
   "metadata": {},
   "source": [
    "$$\n",
    "Sharpe = \\frac{\\mathbb{E}[R_p] - R_f}{\\sigma_p}\n",
    "$$\n"
   ]
  },
  {
   "cell_type": "markdown",
   "id": "9d5ff8b0-cd40-4340-a2b2-1ef66aae1dae",
   "metadata": {},
   "source": [
    "- **𝐸[𝑅ₚ]** : Rendement attendu du portefeuille  \n",
    "- **𝑅𝒻** : Taux sans risque (souvent 0 dans les simulations simplifiées)  \n",
    "- **𝜎ₚ** : Volatilité du portefeuille\n",
    "\n",
    "L’**optimum global** correspond au point de la frontière où ce ratio est **maximal**.\n"
   ]
  },
  {
   "cell_type": "markdown",
   "id": "62a00207-cf23-4730-b95c-8de3a3d71cd2",
   "metadata": {},
   "source": [
    "- Approche déterministe : Utilisation exclusive des données historiques."
   ]
  },
  {
   "cell_type": "markdown",
   "id": "c641db24-dd32-4073-92fd-ad2265a782f8",
   "metadata": {},
   "source": [
    "#### Visualisation\n",
    "Une visualisation typique met en évidence :\n",
    "\n",
    "Le nuage de portefeuilles simulés\n",
    "\n",
    "La frontière efficiente (courbe supérieure du nuage)\n",
    "\n",
    "Le portefeuille optimal (point de Sharpe max, souvent en rouge)\n",
    "\n",
    "Une flèche vers l’optimum, représentant l’augmentation du rendement par rapport au risque"
   ]
  },
  {
   "cell_type": "markdown",
   "id": "340a2e3c-6868-4f56-a5ac-af59009aa555",
   "metadata": {},
   "source": [
    "### Résultats Clés\n",
    "| Action | Poids  | Contribution au Rendement |\n",
    "|--------|--------|----------------------------|\n",
    "| AAPL   | 16.6%  | 5.4%                       |\n",
    "| AMZN   | 23.4%  | 7.6%                       |\n",
    "| GOOGL  | 23.6%  | 7.7%                       |\n",
    "| JNJ    | 13.4%  | -1.1% (diversification)    |\n",
    "| MSFT   | 23.1%  | 2.1%                       |\n"
   ]
  },
  {
   "cell_type": "markdown",
   "id": "47c5e8bf-8dbe-4d65-b27f-f19c94cd24df",
   "metadata": {},
   "source": [
    "## Technologies Utilisées\n",
    "- Python : yfinance, pandas, numpy, matplotlib\n",
    "- Théorie financière : MPT, ratio de Sharpe\n",
    "- Visualisation : seaborn, matplotlib\n"
   ]
  },
  {
   "cell_type": "markdown",
   "id": "51fb4510-13f9-4ec4-bfb9-aac33128bc92",
   "metadata": {},
   "source": [
    "## Améliorations Possibles\n",
    "- Ajouter une interface Streamlit pour une simulation dynamique.\n",
    "- Intégration des frais de transaction dans l'analyse.\n",
    "- Comparaison avec une stratégie de Machine Learning (baseline).\n",
    "- Extension aux ETF ou aux crypto-actifs.\n"
   ]
  },
  {
   "cell_type": "code",
   "execution_count": null,
   "id": "179c0787-a53a-4793-9e55-e12aea47ddb8",
   "metadata": {},
   "outputs": [],
   "source": []
  }
 ],
 "metadata": {
  "kernelspec": {
   "display_name": "Python 3 (ipykernel)",
   "language": "python",
   "name": "python3"
  },
  "language_info": {
   "codemirror_mode": {
    "name": "ipython",
    "version": 3
   },
   "file_extension": ".py",
   "mimetype": "text/x-python",
   "name": "python",
   "nbconvert_exporter": "python",
   "pygments_lexer": "ipython3",
   "version": "3.12.4"
  }
 },
 "nbformat": 4,
 "nbformat_minor": 5
}
